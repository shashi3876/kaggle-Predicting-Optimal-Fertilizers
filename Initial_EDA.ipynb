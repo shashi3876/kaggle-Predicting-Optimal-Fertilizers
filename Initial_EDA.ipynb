{
 "cells": [
  {
   "cell_type": "code",
   "execution_count": 1,
   "id": "6c7cb48b-a07a-4774-b584-6ea194e57993",
   "metadata": {},
   "outputs": [],
   "source": [
    "import pandas as pd"
   ]
  },
  {
   "cell_type": "code",
   "execution_count": 3,
   "id": "d4e3a8d0-97ad-482e-bdbe-fc8659c63612",
   "metadata": {},
   "outputs": [],
   "source": [
    "test = pd.read_csv('test.csv')\n",
    "train = pd.read_csv('train.csv')\n",
    "sample_submission = pd.read_csv('sample_submission.csv')"
   ]
  },
  {
   "cell_type": "code",
   "execution_count": 4,
   "id": "90375b57-59ae-4ba7-9e08-f2f865db0fa6",
   "metadata": {},
   "outputs": [
    {
     "data": {
      "text/html": [
       "<div>\n",
       "<style scoped>\n",
       "    .dataframe tbody tr th:only-of-type {\n",
       "        vertical-align: middle;\n",
       "    }\n",
       "\n",
       "    .dataframe tbody tr th {\n",
       "        vertical-align: top;\n",
       "    }\n",
       "\n",
       "    .dataframe thead th {\n",
       "        text-align: right;\n",
       "    }\n",
       "</style>\n",
       "<table border=\"1\" class=\"dataframe\">\n",
       "  <thead>\n",
       "    <tr style=\"text-align: right;\">\n",
       "      <th></th>\n",
       "      <th>id</th>\n",
       "      <th>Temparature</th>\n",
       "      <th>Humidity</th>\n",
       "      <th>Moisture</th>\n",
       "      <th>Soil Type</th>\n",
       "      <th>Crop Type</th>\n",
       "      <th>Nitrogen</th>\n",
       "      <th>Potassium</th>\n",
       "      <th>Phosphorous</th>\n",
       "    </tr>\n",
       "  </thead>\n",
       "  <tbody>\n",
       "    <tr>\n",
       "      <th>0</th>\n",
       "      <td>750000</td>\n",
       "      <td>31</td>\n",
       "      <td>70</td>\n",
       "      <td>52</td>\n",
       "      <td>Sandy</td>\n",
       "      <td>Wheat</td>\n",
       "      <td>34</td>\n",
       "      <td>11</td>\n",
       "      <td>24</td>\n",
       "    </tr>\n",
       "    <tr>\n",
       "      <th>1</th>\n",
       "      <td>750001</td>\n",
       "      <td>27</td>\n",
       "      <td>62</td>\n",
       "      <td>45</td>\n",
       "      <td>Red</td>\n",
       "      <td>Sugarcane</td>\n",
       "      <td>30</td>\n",
       "      <td>14</td>\n",
       "      <td>15</td>\n",
       "    </tr>\n",
       "    <tr>\n",
       "      <th>2</th>\n",
       "      <td>750002</td>\n",
       "      <td>28</td>\n",
       "      <td>72</td>\n",
       "      <td>28</td>\n",
       "      <td>Clayey</td>\n",
       "      <td>Ground Nuts</td>\n",
       "      <td>14</td>\n",
       "      <td>15</td>\n",
       "      <td>4</td>\n",
       "    </tr>\n",
       "    <tr>\n",
       "      <th>3</th>\n",
       "      <td>750003</td>\n",
       "      <td>37</td>\n",
       "      <td>53</td>\n",
       "      <td>57</td>\n",
       "      <td>Black</td>\n",
       "      <td>Ground Nuts</td>\n",
       "      <td>18</td>\n",
       "      <td>17</td>\n",
       "      <td>36</td>\n",
       "    </tr>\n",
       "    <tr>\n",
       "      <th>4</th>\n",
       "      <td>750004</td>\n",
       "      <td>31</td>\n",
       "      <td>55</td>\n",
       "      <td>32</td>\n",
       "      <td>Red</td>\n",
       "      <td>Pulses</td>\n",
       "      <td>13</td>\n",
       "      <td>19</td>\n",
       "      <td>14</td>\n",
       "    </tr>\n",
       "  </tbody>\n",
       "</table>\n",
       "</div>"
      ],
      "text/plain": [
       "       id  Temparature  Humidity  Moisture Soil Type    Crop Type  Nitrogen  \\\n",
       "0  750000           31        70        52     Sandy        Wheat        34   \n",
       "1  750001           27        62        45       Red    Sugarcane        30   \n",
       "2  750002           28        72        28    Clayey  Ground Nuts        14   \n",
       "3  750003           37        53        57     Black  Ground Nuts        18   \n",
       "4  750004           31        55        32       Red       Pulses        13   \n",
       "\n",
       "   Potassium  Phosphorous  \n",
       "0         11           24  \n",
       "1         14           15  \n",
       "2         15            4  \n",
       "3         17           36  \n",
       "4         19           14  "
      ]
     },
     "execution_count": 4,
     "metadata": {},
     "output_type": "execute_result"
    }
   ],
   "source": [
    "test.head()"
   ]
  },
  {
   "cell_type": "code",
   "execution_count": 5,
   "id": "d8eb476c-3e7a-44e8-9b78-f08b8f02a3ae",
   "metadata": {},
   "outputs": [
    {
     "data": {
      "text/html": [
       "<div>\n",
       "<style scoped>\n",
       "    .dataframe tbody tr th:only-of-type {\n",
       "        vertical-align: middle;\n",
       "    }\n",
       "\n",
       "    .dataframe tbody tr th {\n",
       "        vertical-align: top;\n",
       "    }\n",
       "\n",
       "    .dataframe thead th {\n",
       "        text-align: right;\n",
       "    }\n",
       "</style>\n",
       "<table border=\"1\" class=\"dataframe\">\n",
       "  <thead>\n",
       "    <tr style=\"text-align: right;\">\n",
       "      <th></th>\n",
       "      <th>id</th>\n",
       "      <th>Temparature</th>\n",
       "      <th>Humidity</th>\n",
       "      <th>Moisture</th>\n",
       "      <th>Soil Type</th>\n",
       "      <th>Crop Type</th>\n",
       "      <th>Nitrogen</th>\n",
       "      <th>Potassium</th>\n",
       "      <th>Phosphorous</th>\n",
       "      <th>Fertilizer Name</th>\n",
       "    </tr>\n",
       "  </thead>\n",
       "  <tbody>\n",
       "    <tr>\n",
       "      <th>0</th>\n",
       "      <td>0</td>\n",
       "      <td>37</td>\n",
       "      <td>70</td>\n",
       "      <td>36</td>\n",
       "      <td>Clayey</td>\n",
       "      <td>Sugarcane</td>\n",
       "      <td>36</td>\n",
       "      <td>4</td>\n",
       "      <td>5</td>\n",
       "      <td>28-28</td>\n",
       "    </tr>\n",
       "    <tr>\n",
       "      <th>1</th>\n",
       "      <td>1</td>\n",
       "      <td>27</td>\n",
       "      <td>69</td>\n",
       "      <td>65</td>\n",
       "      <td>Sandy</td>\n",
       "      <td>Millets</td>\n",
       "      <td>30</td>\n",
       "      <td>6</td>\n",
       "      <td>18</td>\n",
       "      <td>28-28</td>\n",
       "    </tr>\n",
       "    <tr>\n",
       "      <th>2</th>\n",
       "      <td>2</td>\n",
       "      <td>29</td>\n",
       "      <td>63</td>\n",
       "      <td>32</td>\n",
       "      <td>Sandy</td>\n",
       "      <td>Millets</td>\n",
       "      <td>24</td>\n",
       "      <td>12</td>\n",
       "      <td>16</td>\n",
       "      <td>17-17-17</td>\n",
       "    </tr>\n",
       "    <tr>\n",
       "      <th>3</th>\n",
       "      <td>3</td>\n",
       "      <td>35</td>\n",
       "      <td>62</td>\n",
       "      <td>54</td>\n",
       "      <td>Sandy</td>\n",
       "      <td>Barley</td>\n",
       "      <td>39</td>\n",
       "      <td>12</td>\n",
       "      <td>4</td>\n",
       "      <td>10-26-26</td>\n",
       "    </tr>\n",
       "    <tr>\n",
       "      <th>4</th>\n",
       "      <td>4</td>\n",
       "      <td>35</td>\n",
       "      <td>58</td>\n",
       "      <td>43</td>\n",
       "      <td>Red</td>\n",
       "      <td>Paddy</td>\n",
       "      <td>37</td>\n",
       "      <td>2</td>\n",
       "      <td>16</td>\n",
       "      <td>DAP</td>\n",
       "    </tr>\n",
       "  </tbody>\n",
       "</table>\n",
       "</div>"
      ],
      "text/plain": [
       "   id  Temparature  Humidity  Moisture Soil Type  Crop Type  Nitrogen  \\\n",
       "0   0           37        70        36    Clayey  Sugarcane        36   \n",
       "1   1           27        69        65     Sandy    Millets        30   \n",
       "2   2           29        63        32     Sandy    Millets        24   \n",
       "3   3           35        62        54     Sandy     Barley        39   \n",
       "4   4           35        58        43       Red      Paddy        37   \n",
       "\n",
       "   Potassium  Phosphorous Fertilizer Name  \n",
       "0          4            5           28-28  \n",
       "1          6           18           28-28  \n",
       "2         12           16        17-17-17  \n",
       "3         12            4        10-26-26  \n",
       "4          2           16             DAP  "
      ]
     },
     "execution_count": 5,
     "metadata": {},
     "output_type": "execute_result"
    }
   ],
   "source": [
    "train.head()"
   ]
  },
  {
   "cell_type": "code",
   "execution_count": 6,
   "id": "ac142be3-b23d-4722-b035-9a1223ff8905",
   "metadata": {},
   "outputs": [
    {
     "data": {
      "text/html": [
       "<div>\n",
       "<style scoped>\n",
       "    .dataframe tbody tr th:only-of-type {\n",
       "        vertical-align: middle;\n",
       "    }\n",
       "\n",
       "    .dataframe tbody tr th {\n",
       "        vertical-align: top;\n",
       "    }\n",
       "\n",
       "    .dataframe thead th {\n",
       "        text-align: right;\n",
       "    }\n",
       "</style>\n",
       "<table border=\"1\" class=\"dataframe\">\n",
       "  <thead>\n",
       "    <tr style=\"text-align: right;\">\n",
       "      <th></th>\n",
       "      <th>id</th>\n",
       "      <th>Fertilizer Name</th>\n",
       "    </tr>\n",
       "  </thead>\n",
       "  <tbody>\n",
       "    <tr>\n",
       "      <th>0</th>\n",
       "      <td>750000</td>\n",
       "      <td>14-35-14 10-26-26 Urea</td>\n",
       "    </tr>\n",
       "    <tr>\n",
       "      <th>1</th>\n",
       "      <td>750001</td>\n",
       "      <td>14-35-14 10-26-26 Urea</td>\n",
       "    </tr>\n",
       "    <tr>\n",
       "      <th>2</th>\n",
       "      <td>750002</td>\n",
       "      <td>14-35-14 10-26-26 Urea</td>\n",
       "    </tr>\n",
       "    <tr>\n",
       "      <th>3</th>\n",
       "      <td>750003</td>\n",
       "      <td>14-35-14 10-26-26 Urea</td>\n",
       "    </tr>\n",
       "    <tr>\n",
       "      <th>4</th>\n",
       "      <td>750004</td>\n",
       "      <td>14-35-14 10-26-26 Urea</td>\n",
       "    </tr>\n",
       "  </tbody>\n",
       "</table>\n",
       "</div>"
      ],
      "text/plain": [
       "       id         Fertilizer Name\n",
       "0  750000  14-35-14 10-26-26 Urea\n",
       "1  750001  14-35-14 10-26-26 Urea\n",
       "2  750002  14-35-14 10-26-26 Urea\n",
       "3  750003  14-35-14 10-26-26 Urea\n",
       "4  750004  14-35-14 10-26-26 Urea"
      ]
     },
     "execution_count": 6,
     "metadata": {},
     "output_type": "execute_result"
    }
   ],
   "source": [
    "sample_submission.head()"
   ]
  },
  {
   "cell_type": "code",
   "execution_count": 7,
   "id": "55bb91b4-d417-44c4-993c-21b11a52ec77",
   "metadata": {},
   "outputs": [
    {
     "data": {
      "text/plain": [
       "250000"
      ]
     },
     "execution_count": 7,
     "metadata": {},
     "output_type": "execute_result"
    }
   ],
   "source": [
    "len(test)"
   ]
  },
  {
   "cell_type": "code",
   "execution_count": 8,
   "id": "1f00d2e0-50b2-42ed-8fc4-fe44e144a8cc",
   "metadata": {},
   "outputs": [
    {
     "data": {
      "text/plain": [
       "750000"
      ]
     },
     "execution_count": 8,
     "metadata": {},
     "output_type": "execute_result"
    }
   ],
   "source": [
    "len(train)"
   ]
  },
  {
   "cell_type": "code",
   "execution_count": 9,
   "id": "7e618460-4503-45ae-8a3a-6c0bd012cfd0",
   "metadata": {},
   "outputs": [
    {
     "data": {
      "text/plain": [
       "250000"
      ]
     },
     "execution_count": 9,
     "metadata": {},
     "output_type": "execute_result"
    }
   ],
   "source": [
    "len(sample_submission)"
   ]
  },
  {
   "cell_type": "code",
   "execution_count": 12,
   "id": "c32cfc15-0ba3-4103-8ae0-fb82b6617645",
   "metadata": {},
   "outputs": [
    {
     "data": {
      "text/plain": [
       "Fertilizer Name\n",
       "14-35-14    114436\n",
       "10-26-26    113887\n",
       "17-17-17    112453\n",
       "28-28       111158\n",
       "20-20       110889\n",
       "DAP          94860\n",
       "Urea         92317\n",
       "Name: count, dtype: int64"
      ]
     },
     "execution_count": 12,
     "metadata": {},
     "output_type": "execute_result"
    }
   ],
   "source": [
    "train['Fertilizer Name'].value_counts()"
   ]
  },
  {
   "cell_type": "markdown",
   "id": "cae48369-10b2-4bcf-b24f-e872b142d9f5",
   "metadata": {},
   "source": [
    "# Use the most common Fertilizers as the predcitions"
   ]
  },
  {
   "cell_type": "code",
   "execution_count": 13,
   "id": "1b982665-c588-4031-b85d-5bf9511e1508",
   "metadata": {},
   "outputs": [],
   "source": [
    "sample_submission['Fertilizer Name']= '14-35-14 10-26-26 17-17-17'\n",
    "sample_submission.to_csv('most_common.csv',index=False)"
   ]
  },
  {
   "cell_type": "code",
   "execution_count": null,
   "id": "e64b4509-8eaa-4b10-a833-e2e6bf05a3fe",
   "metadata": {},
   "outputs": [],
   "source": []
  }
 ],
 "metadata": {
  "kernelspec": {
   "display_name": "Python 3 (ipykernel)",
   "language": "python",
   "name": "python3"
  },
  "language_info": {
   "codemirror_mode": {
    "name": "ipython",
    "version": 3
   },
   "file_extension": ".py",
   "mimetype": "text/x-python",
   "name": "python",
   "nbconvert_exporter": "python",
   "pygments_lexer": "ipython3",
   "version": "3.11.4"
  }
 },
 "nbformat": 4,
 "nbformat_minor": 5
}
