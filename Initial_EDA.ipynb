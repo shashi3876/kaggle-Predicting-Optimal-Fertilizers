{
 "cells": [
  {
   "cell_type": "code",
   "execution_count": 2,
   "id": "6c7cb48b-a07a-4774-b584-6ea194e57993",
   "metadata": {},
   "outputs": [],
   "source": [
    "import pandas as pd\n",
    "import numpy as np\n",
    "\n",
    "from sklearn.model_selection import KFold\n",
    "from sklearn.preprocessing import LabelEncoder\n",
    "from sklearn.metrics import mean_squared_error\n",
    "from lightgbm import LGBMRegressor\n",
    "from catboost import CatBoostRegressor\n",
    "from xgboost import XGBRegressor\n",
    "import pandas as pd\n",
    "import numpy as np"
   ]
  },
  {
   "cell_type": "code",
   "execution_count": 1,
   "id": "f77b6308-7d54-4682-a223-cce47fcc646e",
   "metadata": {},
   "outputs": [
    {
     "name": "stdout",
     "output_type": "stream",
     "text": [
      "14.0.1\n"
     ]
    }
   ],
   "source": [
    "import pyarrow as pa\n",
    "print(pa.__version__)"
   ]
  },
  {
   "cell_type": "code",
   "execution_count": 3,
   "id": "d4e3a8d0-97ad-482e-bdbe-fc8659c63612",
   "metadata": {},
   "outputs": [],
   "source": [
    "test = pd.read_csv('test.csv')\n",
    "train = pd.read_csv('train.csv')\n",
    "sample_submission = pd.read_csv('sample_submission.csv')"
   ]
  },
  {
   "cell_type": "code",
   "execution_count": 4,
   "id": "90375b57-59ae-4ba7-9e08-f2f865db0fa6",
   "metadata": {},
   "outputs": [
    {
     "data": {
      "text/html": [
       "<div>\n",
       "<style scoped>\n",
       "    .dataframe tbody tr th:only-of-type {\n",
       "        vertical-align: middle;\n",
       "    }\n",
       "\n",
       "    .dataframe tbody tr th {\n",
       "        vertical-align: top;\n",
       "    }\n",
       "\n",
       "    .dataframe thead th {\n",
       "        text-align: right;\n",
       "    }\n",
       "</style>\n",
       "<table border=\"1\" class=\"dataframe\">\n",
       "  <thead>\n",
       "    <tr style=\"text-align: right;\">\n",
       "      <th></th>\n",
       "      <th>id</th>\n",
       "      <th>Temparature</th>\n",
       "      <th>Humidity</th>\n",
       "      <th>Moisture</th>\n",
       "      <th>Soil Type</th>\n",
       "      <th>Crop Type</th>\n",
       "      <th>Nitrogen</th>\n",
       "      <th>Potassium</th>\n",
       "      <th>Phosphorous</th>\n",
       "    </tr>\n",
       "  </thead>\n",
       "  <tbody>\n",
       "    <tr>\n",
       "      <th>0</th>\n",
       "      <td>750000</td>\n",
       "      <td>31</td>\n",
       "      <td>70</td>\n",
       "      <td>52</td>\n",
       "      <td>Sandy</td>\n",
       "      <td>Wheat</td>\n",
       "      <td>34</td>\n",
       "      <td>11</td>\n",
       "      <td>24</td>\n",
       "    </tr>\n",
       "    <tr>\n",
       "      <th>1</th>\n",
       "      <td>750001</td>\n",
       "      <td>27</td>\n",
       "      <td>62</td>\n",
       "      <td>45</td>\n",
       "      <td>Red</td>\n",
       "      <td>Sugarcane</td>\n",
       "      <td>30</td>\n",
       "      <td>14</td>\n",
       "      <td>15</td>\n",
       "    </tr>\n",
       "    <tr>\n",
       "      <th>2</th>\n",
       "      <td>750002</td>\n",
       "      <td>28</td>\n",
       "      <td>72</td>\n",
       "      <td>28</td>\n",
       "      <td>Clayey</td>\n",
       "      <td>Ground Nuts</td>\n",
       "      <td>14</td>\n",
       "      <td>15</td>\n",
       "      <td>4</td>\n",
       "    </tr>\n",
       "    <tr>\n",
       "      <th>3</th>\n",
       "      <td>750003</td>\n",
       "      <td>37</td>\n",
       "      <td>53</td>\n",
       "      <td>57</td>\n",
       "      <td>Black</td>\n",
       "      <td>Ground Nuts</td>\n",
       "      <td>18</td>\n",
       "      <td>17</td>\n",
       "      <td>36</td>\n",
       "    </tr>\n",
       "    <tr>\n",
       "      <th>4</th>\n",
       "      <td>750004</td>\n",
       "      <td>31</td>\n",
       "      <td>55</td>\n",
       "      <td>32</td>\n",
       "      <td>Red</td>\n",
       "      <td>Pulses</td>\n",
       "      <td>13</td>\n",
       "      <td>19</td>\n",
       "      <td>14</td>\n",
       "    </tr>\n",
       "  </tbody>\n",
       "</table>\n",
       "</div>"
      ],
      "text/plain": [
       "       id  Temparature  Humidity  Moisture Soil Type    Crop Type  Nitrogen  \\\n",
       "0  750000           31        70        52     Sandy        Wheat        34   \n",
       "1  750001           27        62        45       Red    Sugarcane        30   \n",
       "2  750002           28        72        28    Clayey  Ground Nuts        14   \n",
       "3  750003           37        53        57     Black  Ground Nuts        18   \n",
       "4  750004           31        55        32       Red       Pulses        13   \n",
       "\n",
       "   Potassium  Phosphorous  \n",
       "0         11           24  \n",
       "1         14           15  \n",
       "2         15            4  \n",
       "3         17           36  \n",
       "4         19           14  "
      ]
     },
     "execution_count": 4,
     "metadata": {},
     "output_type": "execute_result"
    }
   ],
   "source": [
    "test.head()"
   ]
  },
  {
   "cell_type": "code",
   "execution_count": 5,
   "id": "d8eb476c-3e7a-44e8-9b78-f08b8f02a3ae",
   "metadata": {},
   "outputs": [
    {
     "data": {
      "text/html": [
       "<div>\n",
       "<style scoped>\n",
       "    .dataframe tbody tr th:only-of-type {\n",
       "        vertical-align: middle;\n",
       "    }\n",
       "\n",
       "    .dataframe tbody tr th {\n",
       "        vertical-align: top;\n",
       "    }\n",
       "\n",
       "    .dataframe thead th {\n",
       "        text-align: right;\n",
       "    }\n",
       "</style>\n",
       "<table border=\"1\" class=\"dataframe\">\n",
       "  <thead>\n",
       "    <tr style=\"text-align: right;\">\n",
       "      <th></th>\n",
       "      <th>id</th>\n",
       "      <th>Temparature</th>\n",
       "      <th>Humidity</th>\n",
       "      <th>Moisture</th>\n",
       "      <th>Soil Type</th>\n",
       "      <th>Crop Type</th>\n",
       "      <th>Nitrogen</th>\n",
       "      <th>Potassium</th>\n",
       "      <th>Phosphorous</th>\n",
       "      <th>Fertilizer Name</th>\n",
       "    </tr>\n",
       "  </thead>\n",
       "  <tbody>\n",
       "    <tr>\n",
       "      <th>0</th>\n",
       "      <td>0</td>\n",
       "      <td>37</td>\n",
       "      <td>70</td>\n",
       "      <td>36</td>\n",
       "      <td>Clayey</td>\n",
       "      <td>Sugarcane</td>\n",
       "      <td>36</td>\n",
       "      <td>4</td>\n",
       "      <td>5</td>\n",
       "      <td>28-28</td>\n",
       "    </tr>\n",
       "    <tr>\n",
       "      <th>1</th>\n",
       "      <td>1</td>\n",
       "      <td>27</td>\n",
       "      <td>69</td>\n",
       "      <td>65</td>\n",
       "      <td>Sandy</td>\n",
       "      <td>Millets</td>\n",
       "      <td>30</td>\n",
       "      <td>6</td>\n",
       "      <td>18</td>\n",
       "      <td>28-28</td>\n",
       "    </tr>\n",
       "    <tr>\n",
       "      <th>2</th>\n",
       "      <td>2</td>\n",
       "      <td>29</td>\n",
       "      <td>63</td>\n",
       "      <td>32</td>\n",
       "      <td>Sandy</td>\n",
       "      <td>Millets</td>\n",
       "      <td>24</td>\n",
       "      <td>12</td>\n",
       "      <td>16</td>\n",
       "      <td>17-17-17</td>\n",
       "    </tr>\n",
       "    <tr>\n",
       "      <th>3</th>\n",
       "      <td>3</td>\n",
       "      <td>35</td>\n",
       "      <td>62</td>\n",
       "      <td>54</td>\n",
       "      <td>Sandy</td>\n",
       "      <td>Barley</td>\n",
       "      <td>39</td>\n",
       "      <td>12</td>\n",
       "      <td>4</td>\n",
       "      <td>10-26-26</td>\n",
       "    </tr>\n",
       "    <tr>\n",
       "      <th>4</th>\n",
       "      <td>4</td>\n",
       "      <td>35</td>\n",
       "      <td>58</td>\n",
       "      <td>43</td>\n",
       "      <td>Red</td>\n",
       "      <td>Paddy</td>\n",
       "      <td>37</td>\n",
       "      <td>2</td>\n",
       "      <td>16</td>\n",
       "      <td>DAP</td>\n",
       "    </tr>\n",
       "  </tbody>\n",
       "</table>\n",
       "</div>"
      ],
      "text/plain": [
       "   id  Temparature  Humidity  Moisture Soil Type  Crop Type  Nitrogen  \\\n",
       "0   0           37        70        36    Clayey  Sugarcane        36   \n",
       "1   1           27        69        65     Sandy    Millets        30   \n",
       "2   2           29        63        32     Sandy    Millets        24   \n",
       "3   3           35        62        54     Sandy     Barley        39   \n",
       "4   4           35        58        43       Red      Paddy        37   \n",
       "\n",
       "   Potassium  Phosphorous Fertilizer Name  \n",
       "0          4            5           28-28  \n",
       "1          6           18           28-28  \n",
       "2         12           16        17-17-17  \n",
       "3         12            4        10-26-26  \n",
       "4          2           16             DAP  "
      ]
     },
     "execution_count": 5,
     "metadata": {},
     "output_type": "execute_result"
    }
   ],
   "source": [
    "train.head()"
   ]
  },
  {
   "cell_type": "code",
   "execution_count": 6,
   "id": "ac142be3-b23d-4722-b035-9a1223ff8905",
   "metadata": {},
   "outputs": [
    {
     "data": {
      "text/html": [
       "<div>\n",
       "<style scoped>\n",
       "    .dataframe tbody tr th:only-of-type {\n",
       "        vertical-align: middle;\n",
       "    }\n",
       "\n",
       "    .dataframe tbody tr th {\n",
       "        vertical-align: top;\n",
       "    }\n",
       "\n",
       "    .dataframe thead th {\n",
       "        text-align: right;\n",
       "    }\n",
       "</style>\n",
       "<table border=\"1\" class=\"dataframe\">\n",
       "  <thead>\n",
       "    <tr style=\"text-align: right;\">\n",
       "      <th></th>\n",
       "      <th>id</th>\n",
       "      <th>Fertilizer Name</th>\n",
       "    </tr>\n",
       "  </thead>\n",
       "  <tbody>\n",
       "    <tr>\n",
       "      <th>0</th>\n",
       "      <td>750000</td>\n",
       "      <td>14-35-14 10-26-26 Urea</td>\n",
       "    </tr>\n",
       "    <tr>\n",
       "      <th>1</th>\n",
       "      <td>750001</td>\n",
       "      <td>14-35-14 10-26-26 Urea</td>\n",
       "    </tr>\n",
       "    <tr>\n",
       "      <th>2</th>\n",
       "      <td>750002</td>\n",
       "      <td>14-35-14 10-26-26 Urea</td>\n",
       "    </tr>\n",
       "    <tr>\n",
       "      <th>3</th>\n",
       "      <td>750003</td>\n",
       "      <td>14-35-14 10-26-26 Urea</td>\n",
       "    </tr>\n",
       "    <tr>\n",
       "      <th>4</th>\n",
       "      <td>750004</td>\n",
       "      <td>14-35-14 10-26-26 Urea</td>\n",
       "    </tr>\n",
       "  </tbody>\n",
       "</table>\n",
       "</div>"
      ],
      "text/plain": [
       "       id         Fertilizer Name\n",
       "0  750000  14-35-14 10-26-26 Urea\n",
       "1  750001  14-35-14 10-26-26 Urea\n",
       "2  750002  14-35-14 10-26-26 Urea\n",
       "3  750003  14-35-14 10-26-26 Urea\n",
       "4  750004  14-35-14 10-26-26 Urea"
      ]
     },
     "execution_count": 6,
     "metadata": {},
     "output_type": "execute_result"
    }
   ],
   "source": [
    "sample_submission.head()"
   ]
  },
  {
   "cell_type": "code",
   "execution_count": 7,
   "id": "55bb91b4-d417-44c4-993c-21b11a52ec77",
   "metadata": {},
   "outputs": [
    {
     "data": {
      "text/plain": [
       "250000"
      ]
     },
     "execution_count": 7,
     "metadata": {},
     "output_type": "execute_result"
    }
   ],
   "source": [
    "len(test)"
   ]
  },
  {
   "cell_type": "code",
   "execution_count": 8,
   "id": "1f00d2e0-50b2-42ed-8fc4-fe44e144a8cc",
   "metadata": {},
   "outputs": [
    {
     "data": {
      "text/plain": [
       "750000"
      ]
     },
     "execution_count": 8,
     "metadata": {},
     "output_type": "execute_result"
    }
   ],
   "source": [
    "len(train)"
   ]
  },
  {
   "cell_type": "code",
   "execution_count": 9,
   "id": "7e618460-4503-45ae-8a3a-6c0bd012cfd0",
   "metadata": {},
   "outputs": [
    {
     "data": {
      "text/plain": [
       "250000"
      ]
     },
     "execution_count": 9,
     "metadata": {},
     "output_type": "execute_result"
    }
   ],
   "source": [
    "len(sample_submission)"
   ]
  },
  {
   "cell_type": "code",
   "execution_count": 10,
   "id": "c32cfc15-0ba3-4103-8ae0-fb82b6617645",
   "metadata": {},
   "outputs": [
    {
     "data": {
      "text/plain": [
       "Fertilizer Name\n",
       "14-35-14    114436\n",
       "10-26-26    113887\n",
       "17-17-17    112453\n",
       "28-28       111158\n",
       "20-20       110889\n",
       "DAP          94860\n",
       "Urea         92317\n",
       "Name: count, dtype: int64"
      ]
     },
     "execution_count": 10,
     "metadata": {},
     "output_type": "execute_result"
    }
   ],
   "source": [
    "train['Fertilizer Name'].value_counts()"
   ]
  },
  {
   "cell_type": "markdown",
   "id": "cae48369-10b2-4bcf-b24f-e872b142d9f5",
   "metadata": {},
   "source": [
    "## Use the most common Fertilizers as the predcitions"
   ]
  },
  {
   "cell_type": "code",
   "execution_count": 11,
   "id": "1b982665-c588-4031-b85d-5bf9511e1508",
   "metadata": {},
   "outputs": [],
   "source": [
    "sample_submission['Fertilizer Name']= '14-35-14 10-26-26 17-17-17'\n",
    "sample_submission.to_csv('most_common.csv',index=False)"
   ]
  },
  {
   "cell_type": "markdown",
   "id": "bc6ce44a-a157-4de7-bd6c-6f51b355605b",
   "metadata": {},
   "source": [
    "# EDA on the data"
   ]
  },
  {
   "cell_type": "code",
   "execution_count": 12,
   "id": "4cb74f68-4585-4cb7-872d-c60efe35285f",
   "metadata": {},
   "outputs": [
    {
     "name": "stdout",
     "output_type": "stream",
     "text": [
      "<class 'pandas.core.frame.DataFrame'>\n",
      "RangeIndex: 250000 entries, 0 to 249999\n",
      "Data columns (total 9 columns):\n",
      " #   Column       Non-Null Count   Dtype \n",
      "---  ------       --------------   ----- \n",
      " 0   id           250000 non-null  int64 \n",
      " 1   Temparature  250000 non-null  int64 \n",
      " 2   Humidity     250000 non-null  int64 \n",
      " 3   Moisture     250000 non-null  int64 \n",
      " 4   Soil Type    250000 non-null  object\n",
      " 5   Crop Type    250000 non-null  object\n",
      " 6   Nitrogen     250000 non-null  int64 \n",
      " 7   Potassium    250000 non-null  int64 \n",
      " 8   Phosphorous  250000 non-null  int64 \n",
      "dtypes: int64(7), object(2)\n",
      "memory usage: 17.2+ MB\n"
     ]
    }
   ],
   "source": [
    "test.info()"
   ]
  },
  {
   "cell_type": "code",
   "execution_count": 13,
   "id": "26e6c36f-2467-4ca9-a8ce-28cd594b7d36",
   "metadata": {},
   "outputs": [
    {
     "name": "stdout",
     "output_type": "stream",
     "text": [
      "<class 'pandas.core.frame.DataFrame'>\n",
      "RangeIndex: 750000 entries, 0 to 749999\n",
      "Data columns (total 10 columns):\n",
      " #   Column           Non-Null Count   Dtype \n",
      "---  ------           --------------   ----- \n",
      " 0   id               750000 non-null  int64 \n",
      " 1   Temparature      750000 non-null  int64 \n",
      " 2   Humidity         750000 non-null  int64 \n",
      " 3   Moisture         750000 non-null  int64 \n",
      " 4   Soil Type        750000 non-null  object\n",
      " 5   Crop Type        750000 non-null  object\n",
      " 6   Nitrogen         750000 non-null  int64 \n",
      " 7   Potassium        750000 non-null  int64 \n",
      " 8   Phosphorous      750000 non-null  int64 \n",
      " 9   Fertilizer Name  750000 non-null  object\n",
      "dtypes: int64(7), object(3)\n",
      "memory usage: 57.2+ MB\n"
     ]
    }
   ],
   "source": [
    "train.info()"
   ]
  },
  {
   "cell_type": "code",
   "execution_count": 14,
   "id": "a60b7088-f92c-4881-b46d-68812a124163",
   "metadata": {},
   "outputs": [
    {
     "data": {
      "text/html": [
       "<div>\n",
       "<style scoped>\n",
       "    .dataframe tbody tr th:only-of-type {\n",
       "        vertical-align: middle;\n",
       "    }\n",
       "\n",
       "    .dataframe tbody tr th {\n",
       "        vertical-align: top;\n",
       "    }\n",
       "\n",
       "    .dataframe thead th {\n",
       "        text-align: right;\n",
       "    }\n",
       "</style>\n",
       "<table border=\"1\" class=\"dataframe\">\n",
       "  <thead>\n",
       "    <tr style=\"text-align: right;\">\n",
       "      <th></th>\n",
       "      <th>id</th>\n",
       "      <th>Temparature</th>\n",
       "      <th>Humidity</th>\n",
       "      <th>Moisture</th>\n",
       "      <th>Nitrogen</th>\n",
       "      <th>Potassium</th>\n",
       "      <th>Phosphorous</th>\n",
       "    </tr>\n",
       "  </thead>\n",
       "  <tbody>\n",
       "    <tr>\n",
       "      <th>count</th>\n",
       "      <td>250000.000000</td>\n",
       "      <td>250000.000000</td>\n",
       "      <td>250000.000000</td>\n",
       "      <td>250000.000000</td>\n",
       "      <td>250000.000000</td>\n",
       "      <td>250000.000000</td>\n",
       "      <td>250000.00000</td>\n",
       "    </tr>\n",
       "    <tr>\n",
       "      <th>mean</th>\n",
       "      <td>874999.500000</td>\n",
       "      <td>31.491648</td>\n",
       "      <td>61.045120</td>\n",
       "      <td>45.190444</td>\n",
       "      <td>23.139612</td>\n",
       "      <td>9.487764</td>\n",
       "      <td>21.12206</td>\n",
       "    </tr>\n",
       "    <tr>\n",
       "      <th>std</th>\n",
       "      <td>72168.927986</td>\n",
       "      <td>4.024093</td>\n",
       "      <td>6.636372</td>\n",
       "      <td>11.793167</td>\n",
       "      <td>11.215956</td>\n",
       "      <td>5.766860</td>\n",
       "      <td>12.38087</td>\n",
       "    </tr>\n",
       "    <tr>\n",
       "      <th>min</th>\n",
       "      <td>750000.000000</td>\n",
       "      <td>25.000000</td>\n",
       "      <td>50.000000</td>\n",
       "      <td>25.000000</td>\n",
       "      <td>4.000000</td>\n",
       "      <td>0.000000</td>\n",
       "      <td>0.00000</td>\n",
       "    </tr>\n",
       "    <tr>\n",
       "      <th>25%</th>\n",
       "      <td>812499.750000</td>\n",
       "      <td>28.000000</td>\n",
       "      <td>55.000000</td>\n",
       "      <td>35.000000</td>\n",
       "      <td>13.000000</td>\n",
       "      <td>4.000000</td>\n",
       "      <td>10.00000</td>\n",
       "    </tr>\n",
       "    <tr>\n",
       "      <th>50%</th>\n",
       "      <td>874999.500000</td>\n",
       "      <td>31.000000</td>\n",
       "      <td>61.000000</td>\n",
       "      <td>45.000000</td>\n",
       "      <td>23.000000</td>\n",
       "      <td>10.000000</td>\n",
       "      <td>21.00000</td>\n",
       "    </tr>\n",
       "    <tr>\n",
       "      <th>75%</th>\n",
       "      <td>937499.250000</td>\n",
       "      <td>35.000000</td>\n",
       "      <td>67.000000</td>\n",
       "      <td>55.000000</td>\n",
       "      <td>33.000000</td>\n",
       "      <td>14.000000</td>\n",
       "      <td>32.00000</td>\n",
       "    </tr>\n",
       "    <tr>\n",
       "      <th>max</th>\n",
       "      <td>999999.000000</td>\n",
       "      <td>38.000000</td>\n",
       "      <td>72.000000</td>\n",
       "      <td>65.000000</td>\n",
       "      <td>42.000000</td>\n",
       "      <td>19.000000</td>\n",
       "      <td>42.00000</td>\n",
       "    </tr>\n",
       "  </tbody>\n",
       "</table>\n",
       "</div>"
      ],
      "text/plain": [
       "                  id    Temparature       Humidity       Moisture  \\\n",
       "count  250000.000000  250000.000000  250000.000000  250000.000000   \n",
       "mean   874999.500000      31.491648      61.045120      45.190444   \n",
       "std     72168.927986       4.024093       6.636372      11.793167   \n",
       "min    750000.000000      25.000000      50.000000      25.000000   \n",
       "25%    812499.750000      28.000000      55.000000      35.000000   \n",
       "50%    874999.500000      31.000000      61.000000      45.000000   \n",
       "75%    937499.250000      35.000000      67.000000      55.000000   \n",
       "max    999999.000000      38.000000      72.000000      65.000000   \n",
       "\n",
       "            Nitrogen      Potassium   Phosphorous  \n",
       "count  250000.000000  250000.000000  250000.00000  \n",
       "mean       23.139612       9.487764      21.12206  \n",
       "std        11.215956       5.766860      12.38087  \n",
       "min         4.000000       0.000000       0.00000  \n",
       "25%        13.000000       4.000000      10.00000  \n",
       "50%        23.000000      10.000000      21.00000  \n",
       "75%        33.000000      14.000000      32.00000  \n",
       "max        42.000000      19.000000      42.00000  "
      ]
     },
     "execution_count": 14,
     "metadata": {},
     "output_type": "execute_result"
    }
   ],
   "source": [
    "test.describe()"
   ]
  },
  {
   "cell_type": "code",
   "execution_count": 15,
   "id": "ab034100-d53d-49d4-96e0-b1e424b72c6f",
   "metadata": {},
   "outputs": [
    {
     "data": {
      "text/html": [
       "<div>\n",
       "<style scoped>\n",
       "    .dataframe tbody tr th:only-of-type {\n",
       "        vertical-align: middle;\n",
       "    }\n",
       "\n",
       "    .dataframe tbody tr th {\n",
       "        vertical-align: top;\n",
       "    }\n",
       "\n",
       "    .dataframe thead th {\n",
       "        text-align: right;\n",
       "    }\n",
       "</style>\n",
       "<table border=\"1\" class=\"dataframe\">\n",
       "  <thead>\n",
       "    <tr style=\"text-align: right;\">\n",
       "      <th></th>\n",
       "      <th>id</th>\n",
       "      <th>Temparature</th>\n",
       "      <th>Humidity</th>\n",
       "      <th>Moisture</th>\n",
       "      <th>Nitrogen</th>\n",
       "      <th>Potassium</th>\n",
       "      <th>Phosphorous</th>\n",
       "    </tr>\n",
       "  </thead>\n",
       "  <tbody>\n",
       "    <tr>\n",
       "      <th>count</th>\n",
       "      <td>750000.000000</td>\n",
       "      <td>750000.000000</td>\n",
       "      <td>750000.000000</td>\n",
       "      <td>750000.000000</td>\n",
       "      <td>750000.000000</td>\n",
       "      <td>750000.000000</td>\n",
       "      <td>750000.000000</td>\n",
       "    </tr>\n",
       "    <tr>\n",
       "      <th>mean</th>\n",
       "      <td>374999.500000</td>\n",
       "      <td>31.503565</td>\n",
       "      <td>61.038912</td>\n",
       "      <td>45.184147</td>\n",
       "      <td>23.093808</td>\n",
       "      <td>9.478296</td>\n",
       "      <td>21.073227</td>\n",
       "    </tr>\n",
       "    <tr>\n",
       "      <th>std</th>\n",
       "      <td>216506.495284</td>\n",
       "      <td>4.025574</td>\n",
       "      <td>6.647695</td>\n",
       "      <td>11.794594</td>\n",
       "      <td>11.216125</td>\n",
       "      <td>5.765622</td>\n",
       "      <td>12.346831</td>\n",
       "    </tr>\n",
       "    <tr>\n",
       "      <th>min</th>\n",
       "      <td>0.000000</td>\n",
       "      <td>25.000000</td>\n",
       "      <td>50.000000</td>\n",
       "      <td>25.000000</td>\n",
       "      <td>4.000000</td>\n",
       "      <td>0.000000</td>\n",
       "      <td>0.000000</td>\n",
       "    </tr>\n",
       "    <tr>\n",
       "      <th>25%</th>\n",
       "      <td>187499.750000</td>\n",
       "      <td>28.000000</td>\n",
       "      <td>55.000000</td>\n",
       "      <td>35.000000</td>\n",
       "      <td>13.000000</td>\n",
       "      <td>4.000000</td>\n",
       "      <td>10.000000</td>\n",
       "    </tr>\n",
       "    <tr>\n",
       "      <th>50%</th>\n",
       "      <td>374999.500000</td>\n",
       "      <td>32.000000</td>\n",
       "      <td>61.000000</td>\n",
       "      <td>45.000000</td>\n",
       "      <td>23.000000</td>\n",
       "      <td>9.000000</td>\n",
       "      <td>21.000000</td>\n",
       "    </tr>\n",
       "    <tr>\n",
       "      <th>75%</th>\n",
       "      <td>562499.250000</td>\n",
       "      <td>35.000000</td>\n",
       "      <td>67.000000</td>\n",
       "      <td>55.000000</td>\n",
       "      <td>33.000000</td>\n",
       "      <td>14.000000</td>\n",
       "      <td>32.000000</td>\n",
       "    </tr>\n",
       "    <tr>\n",
       "      <th>max</th>\n",
       "      <td>749999.000000</td>\n",
       "      <td>38.000000</td>\n",
       "      <td>72.000000</td>\n",
       "      <td>65.000000</td>\n",
       "      <td>42.000000</td>\n",
       "      <td>19.000000</td>\n",
       "      <td>42.000000</td>\n",
       "    </tr>\n",
       "  </tbody>\n",
       "</table>\n",
       "</div>"
      ],
      "text/plain": [
       "                  id    Temparature       Humidity       Moisture  \\\n",
       "count  750000.000000  750000.000000  750000.000000  750000.000000   \n",
       "mean   374999.500000      31.503565      61.038912      45.184147   \n",
       "std    216506.495284       4.025574       6.647695      11.794594   \n",
       "min         0.000000      25.000000      50.000000      25.000000   \n",
       "25%    187499.750000      28.000000      55.000000      35.000000   \n",
       "50%    374999.500000      32.000000      61.000000      45.000000   \n",
       "75%    562499.250000      35.000000      67.000000      55.000000   \n",
       "max    749999.000000      38.000000      72.000000      65.000000   \n",
       "\n",
       "            Nitrogen      Potassium    Phosphorous  \n",
       "count  750000.000000  750000.000000  750000.000000  \n",
       "mean       23.093808       9.478296      21.073227  \n",
       "std        11.216125       5.765622      12.346831  \n",
       "min         4.000000       0.000000       0.000000  \n",
       "25%        13.000000       4.000000      10.000000  \n",
       "50%        23.000000       9.000000      21.000000  \n",
       "75%        33.000000      14.000000      32.000000  \n",
       "max        42.000000      19.000000      42.000000  "
      ]
     },
     "execution_count": 15,
     "metadata": {},
     "output_type": "execute_result"
    }
   ],
   "source": [
    "train.describe()"
   ]
  },
  {
   "cell_type": "code",
   "execution_count": 16,
   "id": "a36ed514-7305-48dc-93a7-b286996ee1fa",
   "metadata": {},
   "outputs": [
    {
     "data": {
      "text/html": [
       "<div>\n",
       "<style scoped>\n",
       "    .dataframe tbody tr th:only-of-type {\n",
       "        vertical-align: middle;\n",
       "    }\n",
       "\n",
       "    .dataframe tbody tr th {\n",
       "        vertical-align: top;\n",
       "    }\n",
       "\n",
       "    .dataframe thead th {\n",
       "        text-align: right;\n",
       "    }\n",
       "</style>\n",
       "<table border=\"1\" class=\"dataframe\">\n",
       "  <thead>\n",
       "    <tr style=\"text-align: right;\">\n",
       "      <th></th>\n",
       "      <th>id</th>\n",
       "      <th>Temparature</th>\n",
       "      <th>Humidity</th>\n",
       "      <th>Moisture</th>\n",
       "      <th>Soil Type</th>\n",
       "      <th>Crop Type</th>\n",
       "      <th>Nitrogen</th>\n",
       "      <th>Potassium</th>\n",
       "      <th>Phosphorous</th>\n",
       "      <th>Fertilizer Name</th>\n",
       "    </tr>\n",
       "  </thead>\n",
       "  <tbody>\n",
       "    <tr>\n",
       "      <th>0</th>\n",
       "      <td>0</td>\n",
       "      <td>37</td>\n",
       "      <td>70</td>\n",
       "      <td>36</td>\n",
       "      <td>Clayey</td>\n",
       "      <td>Sugarcane</td>\n",
       "      <td>36</td>\n",
       "      <td>4</td>\n",
       "      <td>5</td>\n",
       "      <td>28-28</td>\n",
       "    </tr>\n",
       "    <tr>\n",
       "      <th>1</th>\n",
       "      <td>1</td>\n",
       "      <td>27</td>\n",
       "      <td>69</td>\n",
       "      <td>65</td>\n",
       "      <td>Sandy</td>\n",
       "      <td>Millets</td>\n",
       "      <td>30</td>\n",
       "      <td>6</td>\n",
       "      <td>18</td>\n",
       "      <td>28-28</td>\n",
       "    </tr>\n",
       "    <tr>\n",
       "      <th>2</th>\n",
       "      <td>2</td>\n",
       "      <td>29</td>\n",
       "      <td>63</td>\n",
       "      <td>32</td>\n",
       "      <td>Sandy</td>\n",
       "      <td>Millets</td>\n",
       "      <td>24</td>\n",
       "      <td>12</td>\n",
       "      <td>16</td>\n",
       "      <td>17-17-17</td>\n",
       "    </tr>\n",
       "    <tr>\n",
       "      <th>3</th>\n",
       "      <td>3</td>\n",
       "      <td>35</td>\n",
       "      <td>62</td>\n",
       "      <td>54</td>\n",
       "      <td>Sandy</td>\n",
       "      <td>Barley</td>\n",
       "      <td>39</td>\n",
       "      <td>12</td>\n",
       "      <td>4</td>\n",
       "      <td>10-26-26</td>\n",
       "    </tr>\n",
       "    <tr>\n",
       "      <th>4</th>\n",
       "      <td>4</td>\n",
       "      <td>35</td>\n",
       "      <td>58</td>\n",
       "      <td>43</td>\n",
       "      <td>Red</td>\n",
       "      <td>Paddy</td>\n",
       "      <td>37</td>\n",
       "      <td>2</td>\n",
       "      <td>16</td>\n",
       "      <td>DAP</td>\n",
       "    </tr>\n",
       "  </tbody>\n",
       "</table>\n",
       "</div>"
      ],
      "text/plain": [
       "   id  Temparature  Humidity  Moisture Soil Type  Crop Type  Nitrogen  \\\n",
       "0   0           37        70        36    Clayey  Sugarcane        36   \n",
       "1   1           27        69        65     Sandy    Millets        30   \n",
       "2   2           29        63        32     Sandy    Millets        24   \n",
       "3   3           35        62        54     Sandy     Barley        39   \n",
       "4   4           35        58        43       Red      Paddy        37   \n",
       "\n",
       "   Potassium  Phosphorous Fertilizer Name  \n",
       "0          4            5           28-28  \n",
       "1          6           18           28-28  \n",
       "2         12           16        17-17-17  \n",
       "3         12            4        10-26-26  \n",
       "4          2           16             DAP  "
      ]
     },
     "execution_count": 16,
     "metadata": {},
     "output_type": "execute_result"
    }
   ],
   "source": [
    "train.head()"
   ]
  },
  {
   "cell_type": "code",
   "execution_count": 17,
   "id": "eaf917c3-b168-46f4-ada5-1a9d023479e5",
   "metadata": {},
   "outputs": [
    {
     "data": {
      "text/plain": [
       "Soil Type\n",
       "Sandy     0.209292\n",
       "Black     0.200588\n",
       "Clayey    0.199168\n",
       "Red       0.197436\n",
       "Loamy     0.193516\n",
       "Name: proportion, dtype: float64"
      ]
     },
     "execution_count": 17,
     "metadata": {},
     "output_type": "execute_result"
    }
   ],
   "source": [
    "test['Soil Type'].value_counts(normalize=True)"
   ]
  },
  {
   "cell_type": "code",
   "execution_count": 18,
   "id": "6dd465c9-0b0e-4143-8439-8fb2a3ca31cd",
   "metadata": {},
   "outputs": [
    {
     "data": {
      "text/plain": [
       "Soil Type\n",
       "Sandy     0.208947\n",
       "Black     0.201275\n",
       "Clayey    0.197843\n",
       "Red       0.197469\n",
       "Loamy     0.194467\n",
       "Name: proportion, dtype: float64"
      ]
     },
     "execution_count": 18,
     "metadata": {},
     "output_type": "execute_result"
    }
   ],
   "source": [
    "train['Soil Type'].value_counts(normalize=True)"
   ]
  },
  {
   "cell_type": "code",
   "execution_count": 19,
   "id": "685d8a5b-ae97-4654-a06a-fc0c5bf697e1",
   "metadata": {},
   "outputs": [
    {
     "data": {
      "text/plain": [
       "Crop Type\n",
       "Paddy          0.113328\n",
       "Pulses         0.104884\n",
       "Cotton         0.092364\n",
       "Tobacco        0.090912\n",
       "Wheat          0.088376\n",
       "Millets        0.087556\n",
       "Barley         0.086864\n",
       "Sugarcane      0.086268\n",
       "Oil seeds      0.086108\n",
       "Maize          0.083612\n",
       "Ground Nuts    0.079728\n",
       "Name: proportion, dtype: float64"
      ]
     },
     "execution_count": 19,
     "metadata": {},
     "output_type": "execute_result"
    }
   ],
   "source": [
    "test['Crop Type'].value_counts(normalize=True)"
   ]
  },
  {
   "cell_type": "code",
   "execution_count": 20,
   "id": "b04c77c0-35ac-4cad-b20a-42e0a24ecabf",
   "metadata": {},
   "outputs": [
    {
     "data": {
      "text/plain": [
       "Crop Type\n",
       "Paddy          0.114339\n",
       "Pulses         0.104240\n",
       "Cotton         0.092228\n",
       "Tobacco        0.090667\n",
       "Wheat          0.088837\n",
       "Millets        0.087055\n",
       "Barley         0.086727\n",
       "Sugarcane      0.085692\n",
       "Oil seeds      0.085579\n",
       "Maize          0.083425\n",
       "Ground Nuts    0.081212\n",
       "Name: proportion, dtype: float64"
      ]
     },
     "execution_count": 20,
     "metadata": {},
     "output_type": "execute_result"
    }
   ],
   "source": [
    "train['Crop Type'].value_counts(normalize=True)"
   ]
  },
  {
   "cell_type": "markdown",
   "id": "a8a11662-6bd2-465c-87d4-cf547fec2aac",
   "metadata": {},
   "source": [
    "## Findings\n",
    "\n",
    "1. There are no null values in the data.\n",
    "2. The distributions of the test and train datasets appear to be similar when examining each variable individually."
   ]
  },
  {
   "cell_type": "markdown",
   "id": "e7102e7d-f7b0-4187-bf47-0bcbfd9f1ca8",
   "metadata": {},
   "source": [
    "# Initial XGB model\n",
    "\n",
    "Here I'm trying the basic XGB model based on this code\n",
    "https://www.kaggle.com/code/lizzylee1111111111/single-xgboost-baseline"
   ]
  },
  {
   "cell_type": "code",
   "execution_count": 28,
   "id": "cf7cf175-9752-4584-828d-097bd0815b5c",
   "metadata": {},
   "outputs": [],
   "source": [
    "test = pd.read_csv('test.csv')\n",
    "train = pd.read_csv('train.csv')"
   ]
  },
  {
   "cell_type": "code",
   "execution_count": 29,
   "id": "e51b63c7-6dd9-4e64-a651-221c03ced2e9",
   "metadata": {},
   "outputs": [],
   "source": [
    "cat_cols = [col for col in train.select_dtypes(include=['object', 'category']).columns \n",
    "            if col != \"Fertilizer Name\"]\n",
    "\n",
    "for i in cat_cols:\n",
    "    label_enc = LabelEncoder()\n",
    "    train[i] = label_enc.fit_transform(train[i])\n",
    "    test[i] = label_enc.transform(test[i])\n",
    "\n",
    "fer_label_enc = LabelEncoder()\n",
    "train[\"Fertilizer Name\"] = fer_label_enc.fit_transform(train[\"Fertilizer Name\"])\n",
    "\n",
    "for col in cat_cols:\n",
    "    train[col] = train[col].astype(\"category\")\n",
    "    test[col] = test[col].astype(\"category\")\n",
    "\n",
    "\n",
    "X = train.drop(columns=[\"id\",  'Temparature', 'Humidity', 'Moisture', 'Soil Type', \"Fertilizer Name\"])\n",
    "y = train[\"Fertilizer Name\"]\n",
    "X_test = test.drop(columns=[\"id\", 'Temparature', 'Humidity', 'Moisture', 'Soil Type'])\n",
    "\n"
   ]
  },
  {
   "cell_type": "code",
   "execution_count": 30,
   "id": "2425ed0a-3874-4920-8776-b2ce5d90a932",
   "metadata": {},
   "outputs": [
    {
     "data": {
      "text/plain": [
       "Index(['id', 'Temparature', 'Humidity', 'Moisture', 'Soil Type', 'Crop Type',\n",
       "       'Nitrogen', 'Potassium', 'Phosphorous'],\n",
       "      dtype='object')"
      ]
     },
     "execution_count": 30,
     "metadata": {},
     "output_type": "execute_result"
    }
   ],
   "source": [
    "test.columns"
   ]
  },
  {
   "cell_type": "code",
   "execution_count": 31,
   "id": "f0d09eaa-95a4-4198-8b8d-f04cfd65910e",
   "metadata": {},
   "outputs": [
    {
     "name": "stdout",
     "output_type": "stream",
     "text": [
      "############### 1 ###############\n",
      "FOLD 1: MAP@3 Score: 0.30312\n",
      "############### 2 ###############\n",
      "FOLD 2: MAP@3 Score: 0.30287\n",
      "############### 3 ###############\n",
      "FOLD 3: MAP@3 Score: 0.30279\n",
      "############### 4 ###############\n",
      "FOLD 4: MAP@3 Score: 0.30254\n",
      "############### 5 ###############\n",
      "FOLD 5: MAP@3 Score: 0.30373\n"
     ]
    }
   ],
   "source": [
    "from xgboost import XGBClassifier\n",
    "from sklearn.model_selection import StratifiedKFold\n",
    "\n",
    "def mapk(actual, predicted, k=3):\n",
    "    def apk(a, p, k):\n",
    "        p = p[:k]\n",
    "        score = 0.0\n",
    "        hits = 0\n",
    "        seen = set()\n",
    "        for i, pred in enumerate(p):\n",
    "            if pred in a and pred not in seen:\n",
    "                hits += 1\n",
    "                score += hits / (i + 1.0)\n",
    "                seen.add(pred)\n",
    "        return score / min(len(a), k)\n",
    "    return np.mean([apk(a, p, k) for a, p in zip(actual, predicted)])\n",
    "\n",
    "FOLDS = 5\n",
    "#skf = KFold(n_splits=FOLDS, shuffle=True, random_state=42)\n",
    "skf = StratifiedKFold(n_splits=FOLDS, shuffle=True, random_state=42)\n",
    "\n",
    "oof = np.zeros(shape = (len(train) ,y.nunique()))\n",
    "pred_prob = np.zeros(shape = (len(test),y.nunique()))\n",
    "\n",
    "xgb_model = XGBClassifier(\n",
    "    max_depth=12,\n",
    "    colsample_bytree=0.467,\n",
    "    subsample=0.86,\n",
    "    n_estimators=4000,\n",
    "    learning_rate=0.03,\n",
    "    gamma=0.26,\n",
    "    max_delta_step=4,\n",
    "    reg_alpha=2.7,\n",
    "    reg_lambda=1.4,\n",
    "    early_stopping_rounds=100,\n",
    "    objective='multi:softprob',\n",
    "    random_state=13,\n",
    "    enable_categorical=True,\n",
    "    tree_method='hist'      \n",
    ")\n",
    "\n",
    "for i, (train_idx, valid_idx) in enumerate(skf.split(X,y)):\n",
    "    print('#' * 15, i+1, '#' *15)\n",
    "    x_train, x_valid = X.iloc[train_idx],X.iloc[valid_idx]\n",
    "    y_train, y_valid = y.iloc[train_idx],y.iloc[valid_idx]\n",
    "\n",
    "    xgb_model.fit(x_train,y_train, eval_set=[(x_valid,y_valid)],verbose = 0)\n",
    "    oof[valid_idx] = xgb_model.predict_proba(x_valid)\n",
    "    pred_prob +=xgb_model.predict_proba(X_test)\n",
    "\n",
    "    top_3_preds = np.argsort(oof[valid_idx], axis=1)[:, -3:][:, ::-1]  \n",
    "    actual = [[label] for label in y_valid]\n",
    "    map3_score = mapk(actual, top_3_preds)\n",
    "    print(f\"FOLD {i+1}: MAP@3 Score: {map3_score:.5f}\")"
   ]
  },
  {
   "cell_type": "code",
   "execution_count": 42,
   "id": "61183777-5a1c-4fea-9713-7b7ce994378b",
   "metadata": {},
   "outputs": [],
   "source": [
    "top_3_preds = np.argsort(pred_prob, axis=1)[:, -3:][:, ::-1]\n",
    "top_3_labels = fer_label_enc.inverse_transform(top_3_preds.ravel()).reshape(top_3_preds.shape)\n",
    "\n",
    "submission = pd.DataFrame({\n",
    "    'id': sample_submission['id'],\n",
    "    'Fertilizer Name': [' '.join(row) for row in top_3_labels]\n",
    "})\n",
    "submission.to_csv('submission_xgb_initial.csv', index=False)\n"
   ]
  },
  {
   "cell_type": "code",
   "execution_count": 40,
   "id": "65e228ec-edd9-469b-883e-d9a7c6bb63da",
   "metadata": {},
   "outputs": [
    {
     "data": {
      "text/plain": [
       "7"
      ]
     },
     "execution_count": 40,
     "metadata": {},
     "output_type": "execute_result"
    }
   ],
   "source": [
    "len(train['Fertilizer Name'].unique())"
   ]
  },
  {
   "cell_type": "code",
   "execution_count": null,
   "id": "ac9eba6b-9662-4679-8599-823117b104fa",
   "metadata": {},
   "outputs": [],
   "source": []
  },
  {
   "cell_type": "code",
   "execution_count": null,
   "id": "2c8052ff-d840-4aa0-afe4-73d263d58353",
   "metadata": {},
   "outputs": [],
   "source": [
    "# "
   ]
  }
 ],
 "metadata": {
  "kernelspec": {
   "display_name": "Python 3 (ipykernel)",
   "language": "python",
   "name": "python3"
  },
  "language_info": {
   "codemirror_mode": {
    "name": "ipython",
    "version": 3
   },
   "file_extension": ".py",
   "mimetype": "text/x-python",
   "name": "python",
   "nbconvert_exporter": "python",
   "pygments_lexer": "ipython3",
   "version": "3.11.4"
  }
 },
 "nbformat": 4,
 "nbformat_minor": 5
}
